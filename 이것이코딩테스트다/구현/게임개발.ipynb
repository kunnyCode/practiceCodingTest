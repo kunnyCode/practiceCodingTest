{
 "cells": [
  {
   "cell_type": "code",
   "execution_count": 7,
   "id": "7ed2e97e",
   "metadata": {},
   "outputs": [
    {
     "name": "stdout",
     "output_type": "stream",
     "text": [
      "4 4\n",
      "1 1 0\n",
      "1 1 1 1\n",
      "1 0 0 1\n",
      "1 1 0 1\n",
      "1 1 1 1\n",
      "[[1, 1, 1, 1], [1, 0, 0, 1], [1, 1, 0, 1], [1, 1, 1, 1]]\n",
      "[[0, 0, 0, 0], [0, 0, 0, 0], [0, 0, 0, 0], [0, 0, 0, 0]]\n"
     ]
    }
   ],
   "source": [
    "n, m = (map(int, input().split()))\n",
    "locate = list(map(int, input().split()))\n",
    "\n",
    "\n",
    "\n",
    "sea_or_land = []\n",
    "mapp = [0] * m\n",
    "\n",
    "for i in range(m):\n",
    "    mapp[i] = ([0] * n)\n",
    "    \n",
    "    sea_or_land.append(list(map(int, input().split())))\n",
    "\n",
    "\n",
    "print(sea_or_land)\n",
    "print(mapp)"
   ]
  },
  {
   "cell_type": "code",
   "execution_count": 8,
   "id": "202dd72e",
   "metadata": {},
   "outputs": [
    {
     "name": "stdout",
     "output_type": "stream",
     "text": [
      "0\n"
     ]
    }
   ],
   "source": [
    "me = sea_or_land[locate[0]][locate[1]]\n"
   ]
  },
  {
   "cell_type": "code",
   "execution_count": null,
   "id": "6b21bb51",
   "metadata": {},
   "outputs": [],
   "source": [
    "while True:\n",
    "    if locate[2] == 0:\n",
    "        if sea_or_land[locate[0]][locate[1] - 1] == 1:\n",
    "            #방향을 바꿔\n",
    "        else:\n",
    "            #가\n",
    "            "
   ]
  }
 ],
 "metadata": {
  "kernelspec": {
   "display_name": "Python 3 (ipykernel)",
   "language": "python",
   "name": "python3"
  },
  "language_info": {
   "codemirror_mode": {
    "name": "ipython",
    "version": 3
   },
   "file_extension": ".py",
   "mimetype": "text/x-python",
   "name": "python",
   "nbconvert_exporter": "python",
   "pygments_lexer": "ipython3",
   "version": "3.9.7"
  }
 },
 "nbformat": 4,
 "nbformat_minor": 5
}
