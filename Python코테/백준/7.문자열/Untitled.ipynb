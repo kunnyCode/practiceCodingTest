{
 "cells": [
  {
   "cell_type": "code",
   "execution_count": 49,
   "id": "6444ebc7",
   "metadata": {},
   "outputs": [
    {
     "name": "stdout",
     "output_type": "stream",
     "text": [
      "zZa\n"
     ]
    }
   ],
   "source": [
    "strEng = input()\n",
    "strEng = strEng.lower()\n",
    "setStrEng = list(set(list(strEng)))\n",
    "# print(strEng)\n",
    "# print(setStrEng)"
   ]
  },
  {
   "cell_type": "code",
   "execution_count": 50,
   "id": "dc229543",
   "metadata": {},
   "outputs": [],
   "source": [
    "alphaAr = []\n",
    "for i in setStrEng:\n",
    "    alphaAr.append(strEng.count(i))\n",
    "# print(alphaAr)"
   ]
  },
  {
   "cell_type": "code",
   "execution_count": 51,
   "id": "2ed884a3",
   "metadata": {},
   "outputs": [
    {
     "data": {
      "text/plain": [
       "1"
      ]
     },
     "execution_count": 51,
     "metadata": {},
     "output_type": "execute_result"
    }
   ],
   "source": [
    "maxVal = max(alphaAr)\n",
    "indexVal = alphaAr.index(maxVal)\n",
    "biggestChar = setStrEng[indexVal]\n",
    "# print(maxVal)\n",
    "# print(indexVal)\n",
    "# print(biggestChar.upper())\n",
    "alphaAr.pop(indexVal)\n",
    "\n",
    "maxVal2 = max(alphaAr)\n",
    "indexVal2 = alphaAr.index(maxVal2)\n",
    "biggestChar2 = setStrEng[indexVal2]\n",
    "# print(maxVal2)\n",
    "# print(indexVal2)\n",
    "# print(biggestChar2.upper())\n",
    "alphaAr.pop(indexVal2)"
   ]
  },
  {
   "cell_type": "code",
   "execution_count": 52,
   "id": "447e2a94",
   "metadata": {},
   "outputs": [
    {
     "name": "stdout",
     "output_type": "stream",
     "text": [
      "Z\n"
     ]
    }
   ],
   "source": [
    "if maxVal == maxVal2:\n",
    "    print('?')\n",
    "else:\n",
    "    print(biggestChar.upper())"
   ]
  },
  {
   "cell_type": "code",
   "execution_count": null,
   "id": "38571d27",
   "metadata": {},
   "outputs": [],
   "source": []
  }
 ],
 "metadata": {
  "kernelspec": {
   "display_name": "Python 3 (ipykernel)",
   "language": "python",
   "name": "python3"
  },
  "language_info": {
   "codemirror_mode": {
    "name": "ipython",
    "version": 3
   },
   "file_extension": ".py",
   "mimetype": "text/x-python",
   "name": "python",
   "nbconvert_exporter": "python",
   "pygments_lexer": "ipython3",
   "version": "3.10.2"
  }
 },
 "nbformat": 4,
 "nbformat_minor": 5
}
