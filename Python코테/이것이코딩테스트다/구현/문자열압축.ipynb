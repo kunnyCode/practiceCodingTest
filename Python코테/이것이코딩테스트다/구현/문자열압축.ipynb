{
 "cells": [
  {
   "cell_type": "code",
   "execution_count": 2,
   "id": "d1d65699",
   "metadata": {},
   "outputs": [],
   "source": [
    "s = 'abcabcabcabcdededededede'"
   ]
  },
  {
   "cell_type": "code",
   "execution_count": 8,
   "id": "76e69822",
   "metadata": {},
   "outputs": [
    {
     "name": "stdout",
     "output_type": "stream",
     "text": [
      "[1, 2, 3, 4, 6, 8, 12, 24]\n"
     ]
    }
   ],
   "source": [
    "length = len(s)\n",
    "divisor = []\n",
    "for i in range(1, length + 1):\n",
    "    if length % i == 0:\n",
    "        divisor.append(i)\n",
    "print(divisor)"
   ]
  },
  {
   "cell_type": "code",
   "execution_count": 47,
   "id": "56488470",
   "metadata": {},
   "outputs": [
    {
     "name": "stdout",
     "output_type": "stream",
     "text": [
      "['a', 'b', 'c', 'a', 'b', 'c', 'a', 'b', 'c', 'a', 'b', 'c', 'd', 'e', 'd', 'e', 'd', 'e', 'd', 'e', 'd', 'e', 'd', 'e']\n",
      "{0: 1, 1: 1, 2: 1, 3: 1, 4: 1, 5: 1, 6: 1, 7: 1, 8: 1, 9: 1, 10: 1, 11: 1, 12: 1, 13: 1, 14: 1, 15: 1, 16: 1, 17: 1, 18: 1, 19: 1, 20: 1, 21: 1, 22: 1, 23: 1}\n",
      "['ab', 'ca', 'bc', 'ab', 'ca', 'bc', 'de', 'de', 'de', 'de', 'de', 'de']\n",
      "{0: 1, 1: 1, 2: 1, 3: 1, 4: 1, 5: 1, 6: 6}\n",
      "['abc', 'abc', 'abc', 'abc', 'ded', 'ede', 'ded', 'ede']\n",
      "{0: 4, 1: 1, 2: 1, 3: 1, 4: 1}\n",
      "['abca', 'bcab', 'cabc', 'dede', 'dede', 'dede']\n",
      "{0: 1, 1: 1, 2: 1, 3: 3}\n",
      "['abcabc', 'abcabc', 'dedede', 'dedede']\n",
      "{0: 2, 1: 2}\n",
      "['abcabcab', 'cabcdede', 'dededede']\n",
      "{0: 1, 1: 1, 2: 1}\n",
      "['abcabcabcabc', 'dededededede']\n",
      "{0: 1, 1: 1}\n",
      "['abcabcabcabcdededededede']\n",
      "{}\n",
      "14\n"
     ]
    }
   ],
   "source": [
    "result = []\n",
    "\n",
    "for i in divisor:\n",
    "    temp = []\n",
    "    for k in range(0, length + 1, i):\n",
    "\n",
    "        if k == 0:\n",
    "            pass\n",
    "        else:\n",
    "            temp.append(s[k-i:k])\n",
    "        \n",
    "    print(temp)\n",
    "        \n",
    "        \n",
    "        \n",
    "    tempdict = {}\n",
    "    flag = 0\n",
    "    for j in range(len(temp)-1):\n",
    "        if temp[j] == temp[j+1]:\n",
    "            if flag not in tempdict:\n",
    "                tempdict[flag] = 2\n",
    "            else:\n",
    "                tempdict[flag] += 1\n",
    "        else:\n",
    "            if flag not in tempdict:\n",
    "                tempdict[flag] = 1\n",
    "            flag += 1\n",
    "            tempdict[flag] = 1\n",
    "            \n",
    "    print(tempdict)\n",
    "    \n",
    "    score = 0\n",
    "    for l in tempdict.values():\n",
    "        if l == 1:\n",
    "            score += (l*i)\n",
    "        else:\n",
    "            score += i + 1\n",
    "\n",
    "    result.append(score)\n",
    "    \n",
    "    tempdict = {}\n",
    "    flag = 0\n",
    "    score = 0\n",
    "\n",
    "\n",
    "    \n",
    "    \n",
    "for i in range(len(result)):\n",
    "    if result[i] == 0:\n",
    "        result.pop(i)\n",
    "    \n",
    "    \n",
    "print(min(result))"
   ]
  },
  {
   "cell_type": "code",
   "execution_count": null,
   "id": "5b0a85ad",
   "metadata": {},
   "outputs": [],
   "source": []
  },
  {
   "cell_type": "code",
   "execution_count": null,
   "id": "acd17d0b",
   "metadata": {},
   "outputs": [],
   "source": []
  },
  {
   "cell_type": "code",
   "execution_count": 30,
   "id": "2ce4abe2",
   "metadata": {},
   "outputs": [
    {
     "name": "stdout",
     "output_type": "stream",
     "text": [
      "d\n"
     ]
    }
   ],
   "source": [
    "dict ={}\n",
    "\n",
    "if k not in dict:\n",
    "    print('d')"
   ]
  },
  {
   "cell_type": "code",
   "execution_count": null,
   "id": "d5bc1a2e",
   "metadata": {},
   "outputs": [],
   "source": []
  }
 ],
 "metadata": {
  "kernelspec": {
   "display_name": "Python 3 (ipykernel)",
   "language": "python",
   "name": "python3"
  },
  "language_info": {
   "codemirror_mode": {
    "name": "ipython",
    "version": 3
   },
   "file_extension": ".py",
   "mimetype": "text/x-python",
   "name": "python",
   "nbconvert_exporter": "python",
   "pygments_lexer": "ipython3",
   "version": "3.9.7"
  }
 },
 "nbformat": 4,
 "nbformat_minor": 5
}
