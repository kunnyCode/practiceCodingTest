{
 "cells": [
  {
   "cell_type": "code",
   "execution_count": 12,
   "id": "0452f785",
   "metadata": {},
   "outputs": [],
   "source": [
    "array = [1,5,2,6,3,7,4]\n",
    "commands = [[2,5,3],[4,4,1],[1,7,3]]\n",
    "answer = []"
   ]
  },
  {
   "cell_type": "code",
   "execution_count": 14,
   "id": "46158160",
   "metadata": {},
   "outputs": [],
   "source": [
    "for i in commands:\n",
    "    temp = array[i[0]-1:i[1]]\n",
    "    temp.sort()\n",
    "    res = i[2]\n",
    "    answer.append(temp[res -1])"
   ]
  },
  {
   "cell_type": "code",
   "execution_count": 15,
   "id": "4d8828b6",
   "metadata": {},
   "outputs": [
    {
     "name": "stdout",
     "output_type": "stream",
     "text": [
      "[5, 6, 3]\n"
     ]
    }
   ],
   "source": [
    "print(answer)"
   ]
  },
  {
   "cell_type": "code",
   "execution_count": null,
   "id": "af556ebf",
   "metadata": {},
   "outputs": [],
   "source": []
  }
 ],
 "metadata": {
  "kernelspec": {
   "display_name": "Python 3 (ipykernel)",
   "language": "python",
   "name": "python3"
  },
  "language_info": {
   "codemirror_mode": {
    "name": "ipython",
    "version": 3
   },
   "file_extension": ".py",
   "mimetype": "text/x-python",
   "name": "python",
   "nbconvert_exporter": "python",
   "pygments_lexer": "ipython3",
   "version": "3.10.2"
  }
 },
 "nbformat": 4,
 "nbformat_minor": 5
}
