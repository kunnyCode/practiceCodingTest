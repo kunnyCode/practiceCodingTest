{
 "cells": [
  {
   "cell_type": "code",
   "execution_count": 15,
   "id": "0b19ccb9",
   "metadata": {},
   "outputs": [
    {
     "name": "stdout",
     "output_type": "stream",
     "text": [
      "a1\n"
     ]
    }
   ],
   "source": [
    "al, num = list(input())\n",
    "# print(al, num)"
   ]
  },
  {
   "cell_type": "code",
   "execution_count": 21,
   "id": "165393ce",
   "metadata": {},
   "outputs": [
    {
     "name": "stdout",
     "output_type": "stream",
     "text": [
      "[(3, 2), (3, 0), (-1, 2), (-1, 0), (2, 3), (2, -1), (0, 3), (0, -1)]\n"
     ]
    },
    {
     "data": {
      "text/plain": [
       "[(3, 2), (3, 0), (-1, 2), (-1, 0), (2, 3), (2, -1), (0, 3), (0, -1)]"
      ]
     },
     "execution_count": 21,
     "metadata": {},
     "output_type": "execute_result"
    }
   ],
   "source": [
    "row = ['a','b','c','d','e','f','g','h']\n",
    "col = [1,2,3,4,5,6,7,8]\n",
    "\n",
    "def makePoint(al, num):\n",
    "    lst = []\n",
    "    \n",
    "    al = row.index(al) + 1\n",
    "    num = col.index(int(num)) + 1\n",
    "    \n",
    "    lst.append((al + 2, num + 1))\n",
    "    lst.append((al + 2, num - 1))\n",
    "    lst.append((al - 2, num + 1))\n",
    "    lst.append((al - 2, num - 1))\n",
    "    lst.append((al + 1, num + 2))\n",
    "    lst.append((al + 1, num - 2))\n",
    "    lst.append((al - 1, num + 2))\n",
    "    lst.append((al - 1, num - 2))\n",
    "    \n",
    "#     print(lst)\n",
    "    return(lst)\n",
    "\n"
   ]
  },
  {
   "cell_type": "code",
   "execution_count": 24,
   "id": "09d2fa8e",
   "metadata": {},
   "outputs": [
    {
     "name": "stdout",
     "output_type": "stream",
     "text": [
      "[(3, 2), (3, 0), (-1, 2), (-1, 0), (2, 3), (2, -1), (0, 3), (0, -1)]\n",
      "2\n"
     ]
    }
   ],
   "source": [
    "lst = makePoint(al, num)\n",
    "count = 0\n",
    "for tu1, tu2 in lst:\n",
    "    if tu1 < 1 or tu2 < 1:\n",
    "        continue\n",
    "    else:\n",
    "        count +=1\n",
    "\n",
    "print(count)"
   ]
  },
  {
   "cell_type": "code",
   "execution_count": null,
   "id": "7f38bcbe",
   "metadata": {},
   "outputs": [],
   "source": []
  }
 ],
 "metadata": {
  "kernelspec": {
   "display_name": "Python 3 (ipykernel)",
   "language": "python",
   "name": "python3"
  },
  "language_info": {
   "codemirror_mode": {
    "name": "ipython",
    "version": 3
   },
   "file_extension": ".py",
   "mimetype": "text/x-python",
   "name": "python",
   "nbconvert_exporter": "python",
   "pygments_lexer": "ipython3",
   "version": "3.9.7"
  }
 },
 "nbformat": 4,
 "nbformat_minor": 5
}
