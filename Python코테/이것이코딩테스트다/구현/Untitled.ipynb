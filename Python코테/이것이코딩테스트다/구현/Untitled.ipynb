{
 "cells": [
  {
   "cell_type": "code",
   "execution_count": 6,
   "id": "728e11a0",
   "metadata": {},
   "outputs": [
    {
     "name": "stdout",
     "output_type": "stream",
     "text": [
      "5 3\n",
      "0 0 1 0 0\n",
      "0 0 2 0 1\n",
      "0 1 2 0 0\n",
      "0 0 1 0 0\n",
      "0 0 0 0 2\n",
      "[[0, 0, 1, 0, 0], [0, 0, 2, 0, 1], [0, 1, 2, 0, 0], [0, 0, 1, 0, 0], [0, 0, 0, 0, 2]]\n"
     ]
    }
   ],
   "source": [
    "n, m = map(int, input().split())\n",
    "\n",
    "sizeOfCity = []\n",
    "\n",
    "for _ in range(n):\n",
    "    ar = list(map(int, input().split()))\n",
    "    sizeOfCity.append(ar)\n",
    "\n",
    "# print(sizeOfCity)"
   ]
  },
  {
   "cell_type": "code",
   "execution_count": 9,
   "id": "acee320c",
   "metadata": {},
   "outputs": [
    {
     "name": "stdout",
     "output_type": "stream",
     "text": [
      "0\n",
      "0\n",
      "1\n",
      "0\n",
      "0\n",
      "0\n",
      "0\n",
      "2\n",
      "0\n",
      "1\n",
      "0\n",
      "1\n",
      "2\n",
      "0\n",
      "0\n",
      "0\n",
      "0\n",
      "1\n",
      "0\n",
      "0\n",
      "0\n",
      "0\n",
      "0\n",
      "0\n",
      "2\n"
     ]
    }
   ],
   "source": [
    "chic = 0\n",
    "locationOfChic = []\n",
    "\n",
    "for i in sizeOfCity:\n",
    "    for j in i:\n",
    "        if j == 2:\n",
    "            cheic += 1\n",
    "        \n",
    "            "
   ]
  },
  {
   "cell_type": "code",
   "execution_count": null,
   "id": "16aec27b",
   "metadata": {},
   "outputs": [],
   "source": []
  }
 ],
 "metadata": {
  "kernelspec": {
   "display_name": "Python 3 (ipykernel)",
   "language": "python",
   "name": "python3"
  },
  "language_info": {
   "codemirror_mode": {
    "name": "ipython",
    "version": 3
   },
   "file_extension": ".py",
   "mimetype": "text/x-python",
   "name": "python",
   "nbconvert_exporter": "python",
   "pygments_lexer": "ipython3",
   "version": "3.9.7"
  }
 },
 "nbformat": 4,
 "nbformat_minor": 5
}
