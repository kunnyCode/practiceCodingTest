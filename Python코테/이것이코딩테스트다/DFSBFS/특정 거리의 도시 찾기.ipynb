{
 "cells": [
  {
   "cell_type": "code",
   "execution_count": 23,
   "id": "371a16dd",
   "metadata": {},
   "outputs": [
    {
     "name": "stdout",
     "output_type": "stream",
     "text": [
      "4 4 2 1\n"
     ]
    }
   ],
   "source": [
    "n, m, k, x = map(int, input().split())\n",
    "# print(n, m, k, x)"
   ]
  },
  {
   "cell_type": "code",
   "execution_count": 24,
   "id": "c489d79d",
   "metadata": {},
   "outputs": [
    {
     "name": "stdout",
     "output_type": "stream",
     "text": [
      "[[], [], [], [], []]\n"
     ]
    }
   ],
   "source": [
    "result = set()\n",
    "minus = set()\n",
    "count = 0\n",
    "\n",
    "graph = [[] for i in range(n + 1)]\n",
    "print(graph)"
   ]
  },
  {
   "cell_type": "code",
   "execution_count": 25,
   "id": "7a46be7c",
   "metadata": {},
   "outputs": [
    {
     "name": "stdout",
     "output_type": "stream",
     "text": [
      "1 2\n",
      "1 3\n",
      "2 3\n",
      "2 4\n",
      "[[], [2, 3], [3, 4], [], []]\n"
     ]
    }
   ],
   "source": [
    "for i in range(m):\n",
    "    a, b = map(int, input().split())\n",
    "    \n",
    "    graph[a].append(b)\n",
    "\n",
    "print(graph)"
   ]
  },
  {
   "cell_type": "code",
   "execution_count": 26,
   "id": "c33f1513",
   "metadata": {},
   "outputs": [],
   "source": [
    "\n",
    "def solFunc(x):\n",
    "    tempAr = graph[x]\n",
    "    global count\n",
    "    count += 1\n",
    "    \n",
    "    if count == k:\n",
    "        for i in tempAr:\n",
    "            result.add(i)\n",
    "    elif count < k:\n",
    "        for i in tempAr:\n",
    "            minus.add(i)\n",
    "            \n",
    "    for i in tempAr:\n",
    "        solFunc(i)\n",
    "        \n",
    "    return \n",
    "            \n",
    "        \n",
    "        "
   ]
  },
  {
   "cell_type": "code",
   "execution_count": 27,
   "id": "338ec394",
   "metadata": {},
   "outputs": [
    {
     "name": "stdout",
     "output_type": "stream",
     "text": [
      "{3, 4} {2, 3}\n",
      "4\n"
     ]
    }
   ],
   "source": [
    "solFunc(x)\n",
    "res = result - minus\n",
    "print(result, minus)\n",
    "for i in res:\n",
    "    print(i)"
   ]
  },
  {
   "cell_type": "code",
   "execution_count": null,
   "id": "033dfe04",
   "metadata": {},
   "outputs": [],
   "source": []
  }
 ],
 "metadata": {
  "kernelspec": {
   "display_name": "Python 3 (ipykernel)",
   "language": "python",
   "name": "python3"
  },
  "language_info": {
   "codemirror_mode": {
    "name": "ipython",
    "version": 3
   },
   "file_extension": ".py",
   "mimetype": "text/x-python",
   "name": "python",
   "nbconvert_exporter": "python",
   "pygments_lexer": "ipython3",
   "version": "3.9.7"
  }
 },
 "nbformat": 4,
 "nbformat_minor": 5
}
