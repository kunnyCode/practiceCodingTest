{
 "cells": [
  {
   "cell_type": "code",
   "execution_count": 7,
   "id": "09403492",
   "metadata": {},
   "outputs": [
    {
     "name": "stdout",
     "output_type": "stream",
     "text": [
      "4 4\n",
      "1 1 0\n",
      "1 1 1 1\n",
      "1 0 0 1\n",
      "1 1 0 1\n",
      "1 1 1 1\n",
      "[[1, 1, 1, 1], [1, 0, 0, 1], [1, 1, 0, 1], [1, 1, 1, 1]]\n",
      "[[0, 0, 0, 0], [0, 0, 0, 0], [0, 0, 0, 0], [0, 0, 0, 0]]\n"
     ]
    }
   ],
   "source": [
    "n, m = (map(int, input().split()))\n",
    "locate = list(map(int, input().split()))\n",
    "\n",
    "\n",
    "\n",
    "sea_or_land = []\n",
    "mapp = [0] * m\n",
    "\n",
    "for i in range(m):\n",
    "    mapp[i] = ([0] * n)\n",
    "    \n",
    "    sea_or_land.append(list(map(int, input().split())))\n",
    "\n",
    "\n",
    "print(sea_or_land)\n",
    "print(mapp)"
   ]
  },
  {
   "cell_type": "code",
   "execution_count": null,
   "id": "00dee34a",
   "metadata": {},
   "outputs": [],
   "source": [
    "    me = sea_or_land[1][1]"
   ]
  },
  {
   "cell_type": "markdown",
   "id": "f9a5d86e",
   "metadata": {},
   "source": [
    "me = sea_or_land[1][1]\n",
    "print(me)\n"
   ]
  }
 ],
 "metadata": {
  "kernelspec": {
   "display_name": "Python 3 (ipykernel)",
   "language": "python",
   "name": "python3"
  },
  "language_info": {
   "codemirror_mode": {
    "name": "ipython",
    "version": 3
   },
   "file_extension": ".py",
   "mimetype": "text/x-python",
   "name": "python",
   "nbconvert_exporter": "python",
   "pygments_lexer": "ipython3",
   "version": "3.9.7"
  }
 },
 "nbformat": 4,
 "nbformat_minor": 5
}
