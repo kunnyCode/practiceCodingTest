{
 "cells": [
  {
   "cell_type": "code",
   "execution_count": 14,
   "id": "1bf51bab",
   "metadata": {},
   "outputs": [
    {
     "name": "stdout",
     "output_type": "stream",
     "text": [
      "02984\n",
      "576\n"
     ]
    }
   ],
   "source": [
    "s = list(map(int, input()))\n",
    "\n",
    "result = 0\n",
    "\n",
    "for i in range(len(s)):\n",
    "    if i == 0:\n",
    "        result = s[i]\n",
    "        continue\n",
    "    \n",
    "    if result == 0 or s[i] == 0:\n",
    "        result = result + s[i]\n",
    "    else:\n",
    "        result = result * s[i]\n",
    "        \n",
    "\n",
    "print(result)\n"
   ]
  },
  {
   "cell_type": "code",
   "execution_count": null,
   "id": "c9523027",
   "metadata": {},
   "outputs": [],
   "source": []
  }
 ],
 "metadata": {
  "kernelspec": {
   "display_name": "Python 3 (ipykernel)",
   "language": "python",
   "name": "python3"
  },
  "language_info": {
   "codemirror_mode": {
    "name": "ipython",
    "version": 3
   },
   "file_extension": ".py",
   "mimetype": "text/x-python",
   "name": "python",
   "nbconvert_exporter": "python",
   "pygments_lexer": "ipython3",
   "version": "3.9.7"
  }
 },
 "nbformat": 4,
 "nbformat_minor": 5
}
