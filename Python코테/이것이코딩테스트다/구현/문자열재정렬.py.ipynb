{
 "cells": [
  {
   "cell_type": "code",
   "execution_count": 10,
   "id": "03359275",
   "metadata": {},
   "outputs": [
    {
     "name": "stdout",
     "output_type": "stream",
     "text": [
      "K1KA5CB7\n",
      "['A', 'B', 'K', 'K', 'C'] 13\n",
      "['A', 'B', 'C', 'K', 'K'] ['1', '5', '7']\n",
      "ABCKK13\n"
     ]
    }
   ],
   "source": [
    "import heapq\n",
    "\n",
    "string = []\n",
    "integer = 0\n",
    "\n",
    "s = input()\n",
    "\n",
    "for i in s:\n",
    "    if 48 <= ord(i) <= 57:\n",
    "        integer += int(i)\n",
    "    if 65 <= ord(i) <= 90:\n",
    "        heapq.heappush(string, i)\n",
    "    else:\n",
    "        pass\n",
    "\n",
    "\n",
    "newString = []\n",
    "for i in range(len(string)):\n",
    "    a= heapq.heappop(string)\n",
    "    newString.append(a)\n",
    "\n",
    "result = \"\".join(newString) + str(integer)\n",
    "\n",
    "\n",
    "\n",
    "print(result)"
   ]
  },
  {
   "cell_type": "code",
   "execution_count": null,
   "id": "73f72c9e",
   "metadata": {},
   "outputs": [],
   "source": []
  }
 ],
 "metadata": {
  "kernelspec": {
   "display_name": "Python 3 (ipykernel)",
   "language": "python",
   "name": "python3"
  },
  "language_info": {
   "codemirror_mode": {
    "name": "ipython",
    "version": 3
   },
   "file_extension": ".py",
   "mimetype": "text/x-python",
   "name": "python",
   "nbconvert_exporter": "python",
   "pygments_lexer": "ipython3",
   "version": "3.9.7"
  }
 },
 "nbformat": 4,
 "nbformat_minor": 5
}
