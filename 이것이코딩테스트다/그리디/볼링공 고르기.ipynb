{
 "cells": [
  {
   "cell_type": "code",
   "execution_count": 1,
   "id": "2a367587",
   "metadata": {},
   "outputs": [],
   "source": [
    "from itertools import combinations"
   ]
  },
  {
   "cell_type": "code",
   "execution_count": 4,
   "id": "40151e26",
   "metadata": {},
   "outputs": [
    {
     "name": "stdout",
     "output_type": "stream",
     "text": [
      "5 3\n",
      "1 3 2 3 2\n"
     ]
    }
   ],
   "source": [
    "n, m = map(int, input().split())\n",
    "ar = list(map(int, input().split()))"
   ]
  },
  {
   "cell_type": "code",
   "execution_count": 15,
   "id": "28cbd857",
   "metadata": {},
   "outputs": [
    {
     "name": "stdout",
     "output_type": "stream",
     "text": [
      "[(1, 3), (1, 2), (1, 3), (1, 2), (3, 2), (3, 3), (3, 2), (2, 3), (2, 2), (3, 2)]\n"
     ]
    }
   ],
   "source": [
    "cases = list(combinations(ar, 2))\n",
    "print(cases)"
   ]
  },
  {
   "cell_type": "code",
   "execution_count": 17,
   "id": "df808bf1",
   "metadata": {},
   "outputs": [
    {
     "name": "stdout",
     "output_type": "stream",
     "text": [
      "[(1, 3), (1, 2), (1, 3), (1, 2), (3, 2), (3, 2), (2, 3), (3, 2)]\n"
     ]
    }
   ],
   "source": [
    "\n",
    "for i in range(len(cases)):\n",
    "    if cases[i][0] == cases[i][1]:\n",
    "        cases.pop(i)\n",
    "\n",
    "print(cases)"
   ]
  },
  {
   "cell_type": "code",
   "execution_count": 13,
   "id": "92944cb0",
   "metadata": {},
   "outputs": [
    {
     "name": "stdout",
     "output_type": "stream",
     "text": [
      "8\n"
     ]
    }
   ],
   "source": [
    "print(len(cases))"
   ]
  },
  {
   "cell_type": "code",
   "execution_count": null,
   "id": "b0e0535e",
   "metadata": {},
   "outputs": [],
   "source": []
  }
 ],
 "metadata": {
  "kernelspec": {
   "display_name": "Python 3 (ipykernel)",
   "language": "python",
   "name": "python3"
  },
  "language_info": {
   "codemirror_mode": {
    "name": "ipython",
    "version": 3
   },
   "file_extension": ".py",
   "mimetype": "text/x-python",
   "name": "python",
   "nbconvert_exporter": "python",
   "pygments_lexer": "ipython3",
   "version": "3.9.7"
  }
 },
 "nbformat": 4,
 "nbformat_minor": 5
}
