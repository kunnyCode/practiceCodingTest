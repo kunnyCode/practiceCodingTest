{
 "cells": [
  {
   "cell_type": "code",
   "execution_count": 11,
   "id": "35d73542",
   "metadata": {},
   "outputs": [
    {
     "name": "stdout",
     "output_type": "stream",
     "text": [
      "567\n",
      "[5, 6, 7]\n",
      "0\n",
      "2\n"
     ]
    }
   ],
   "source": [
    "s = list(map(int, input()))\n",
    "# print(s)\n",
    "\n",
    "result = 0\n",
    "\n",
    "for i in range(len(s)):\n",
    "    if i == 0\n",
    "        result = s[i]\n",
    "        continue\n",
    "    \n",
    "    if result == 0 or s[i] == 0:\n",
    "        result = result + s[i]\n",
    "    else:\n",
    "        result = result * s[i]\n",
    "        \n",
    "\n",
    "print\n"
   ]
  },
  {
   "cell_type": "code",
   "execution_count": null,
   "id": "815cac1e",
   "metadata": {},
   "outputs": [],
   "source": []
  }
 ],
 "metadata": {
  "kernelspec": {
   "display_name": "Python 3 (ipykernel)",
   "language": "python",
   "name": "python3"
  },
  "language_info": {
   "codemirror_mode": {
    "name": "ipython",
    "version": 3
   },
   "file_extension": ".py",
   "mimetype": "text/x-python",
   "name": "python",
   "nbconvert_exporter": "python",
   "pygments_lexer": "ipython3",
   "version": "3.9.7"
  }
 },
 "nbformat": 4,
 "nbformat_minor": 5
}
