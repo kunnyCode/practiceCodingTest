{
 "cells": [
  {
   "cell_type": "code",
   "execution_count": 2,
   "id": "d3c4c0f4",
   "metadata": {},
   "outputs": [
    {
     "name": "stdout",
     "output_type": "stream",
     "text": [
      "5\n",
      "3 2 1 1 9\n",
      "5 [3, 2, 1, 1, 9]\n"
     ]
    }
   ],
   "source": [
    "length = int(input())\n",
    "nums = list(map(int, input().split()))\n",
    "print(length, nums)"
   ]
  },
  {
   "cell_type": "code",
   "execution_count": 3,
   "id": "c8ea5ecc",
   "metadata": {},
   "outputs": [
    {
     "name": "stdout",
     "output_type": "stream",
     "text": [
      "[9, 3, 2, 1, 1]\n"
     ]
    }
   ],
   "source": [
    "nums.sort(reverse=True)\n",
    "print(nums)"
   ]
  },
  {
   "cell_type": "code",
   "execution_count": 5,
   "id": "2b1a4ce3",
   "metadata": {},
   "outputs": [
    {
     "name": "stdout",
     "output_type": "stream",
     "text": [
      "8\n"
     ]
    }
   ],
   "source": [
    "\n",
    "count = 1\n",
    "\n",
    "while True:\n",
    "    cal = count\n",
    "    for i in nums:\n",
    "        if cal - i < 0:\n",
    "            continue\n",
    "        elif cal - i == 0:\n",
    "            cal = cal - i\n",
    "            break\n",
    "        else:\n",
    "            cal = cal - i\n",
    "    \n",
    "    if cal > 0:\n",
    "        print(count)\n",
    "        break\n",
    "    \n",
    "    count += 1"
   ]
  },
  {
   "cell_type": "code",
   "execution_count": null,
   "id": "a7c6ad4c",
   "metadata": {},
   "outputs": [],
   "source": []
  }
 ],
 "metadata": {
  "kernelspec": {
   "display_name": "Python 3 (ipykernel)",
   "language": "python",
   "name": "python3"
  },
  "language_info": {
   "codemirror_mode": {
    "name": "ipython",
    "version": 3
   },
   "file_extension": ".py",
   "mimetype": "text/x-python",
   "name": "python",
   "nbconvert_exporter": "python",
   "pygments_lexer": "ipython3",
   "version": "3.9.7"
  }
 },
 "nbformat": 4,
 "nbformat_minor": 5
}
