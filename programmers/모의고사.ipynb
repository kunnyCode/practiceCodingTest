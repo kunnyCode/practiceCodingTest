{
 "cells": [
  {
   "cell_type": "code",
   "execution_count": 7,
   "id": "959b62d0",
   "metadata": {},
   "outputs": [],
   "source": []
  },
  {
   "cell_type": "code",
   "execution_count": 2,
   "id": "84a39e2a",
   "metadata": {},
   "outputs": [
    {
     "ename": "SyntaxError",
     "evalue": "expected ':' (3449216167.py, line 1)",
     "output_type": "error",
     "traceback": [
      "\u001b[0;36m  Input \u001b[0;32mIn [2]\u001b[0;36m\u001b[0m\n\u001b[0;31m    for i in range(len(answer))\u001b[0m\n\u001b[0m                               ^\u001b[0m\n\u001b[0;31mSyntaxError\u001b[0m\u001b[0;31m:\u001b[0m expected ':'\n"
     ]
    }
   ],
   "source": [
    "for i in range(len(answer)):\n",
    "    if (i+1) % 5 == answer[i]:\n",
    "        supoja1 += 1\n",
    "    \n",
    "    if i % 2 == 0 and 2 == answer[i]:\n",
    "        supoja2 +=1\n",
    "        \n",
    "    elif i % 2 == 1:\n",
    "        if (i+1) % 8 == 2 and 1 == answer[i]:\n",
    "            supoja2 +=1\n",
    "        if (i+1) % 8 == 4 and 3 == answer[i]:\n",
    "            supoja2 +=1\n",
    "        if (i+1) % 8 == 6 and 4 == answer[i]:\n",
    "            supoja2 +=1\n",
    "        if (i+1) % 8 == 0 and 5 == answer[i]:\n",
    "            supoja2 +=1\n",
    "            \n",
    "            \n",
    "    if"
   ]
  },
  {
   "cell_type": "code",
   "execution_count": 119,
   "id": "c57dae33",
   "metadata": {},
   "outputs": [],
   "source": [
    "answers = [1,3,1,5,2]\n",
    "supoja=[0, 0, 0]\n",
    "\n",
    "\n",
    "\n",
    "supoja1Ar=[1,2,3,4,5,1,2,3,4,5]\n",
    "supoja2Ar=[2,1,2,3,2,4,2,5,]\n",
    "supoja3AR=[3,3,1,1,2,2,4,4,5,5]"
   ]
  },
  {
   "cell_type": "code",
   "execution_count": 120,
   "id": "6ec3c5d5",
   "metadata": {},
   "outputs": [],
   "source": [
    "numberNeeded1 = len(answers) // 10 + 1\n",
    "numberNeeded2 = len(answers) // 8 + 1\n",
    "\n",
    "supoja1Ar = supoja1Ar * numberNeeded1\n",
    "supoja2Ar = supoja2Ar * numberNeeded2\n",
    "supoja3Ar = supoja3AR * numberNeeded1"
   ]
  },
  {
   "cell_type": "code",
   "execution_count": 121,
   "id": "da573c24",
   "metadata": {},
   "outputs": [],
   "source": [
    "for i in range(len(answers)):\n",
    "    if supoja1Ar[i] == answers[i]:\n",
    "        supoja[0] += 1\n",
    "    if supoja2Ar[i] == answers[i]:\n",
    "        supoja[1] += 1\n",
    "    if supoja3Ar[i] == answers[i]:\n",
    "        supoja[2] += 1"
   ]
  },
  {
   "cell_type": "code",
   "execution_count": 122,
   "id": "1af3cd69",
   "metadata": {},
   "outputs": [],
   "source": [
    "answer=[]\n",
    "\n",
    "if(supoja[0] == supoja[1] == supoja[2] != 0):\n",
    "    answer = [1,2,3]\n",
    "elif supoja[0] == supoja[1] and supoja[1] > supoja[2]:\n",
    "    answer = [1,2]\n",
    "elif supoja[1] == supoja[2] and supoja[2] > supoja[0]:\n",
    "    answer = [2,3]\n",
    "elif supoja[0] == supoja[2] and supoja[2] > supoja[1]:\n",
    "    answer = [1,3]\n",
    "else:\n",
    "    tmp = max(supoja)\n",
    "    res = supoja.index(tmp) + 1\n",
    "    answer = [res]"
   ]
  },
  {
   "cell_type": "code",
   "execution_count": 123,
   "id": "25787310",
   "metadata": {},
   "outputs": [
    {
     "name": "stdout",
     "output_type": "stream",
     "text": [
      "[1, 1, 3]\n",
      "[3]\n"
     ]
    }
   ],
   "source": [
    "print(supoja)\n",
    "print(answer)"
   ]
  },
  {
   "cell_type": "code",
   "execution_count": null,
   "id": "77554b77",
   "metadata": {},
   "outputs": [],
   "source": []
  }
 ],
 "metadata": {
  "kernelspec": {
   "display_name": "Python 3 (ipykernel)",
   "language": "python",
   "name": "python3"
  },
  "language_info": {
   "codemirror_mode": {
    "name": "ipython",
    "version": 3
   },
   "file_extension": ".py",
   "mimetype": "text/x-python",
   "name": "python",
   "nbconvert_exporter": "python",
   "pygments_lexer": "ipython3",
   "version": "3.10.2"
  }
 },
 "nbformat": 4,
 "nbformat_minor": 5
}
