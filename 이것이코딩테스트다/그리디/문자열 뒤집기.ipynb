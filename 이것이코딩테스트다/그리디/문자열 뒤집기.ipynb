{
 "cells": [
  {
   "cell_type": "code",
   "execution_count": 6,
   "id": "ae0eb99f",
   "metadata": {},
   "outputs": [
    {
     "name": "stdout",
     "output_type": "stream",
     "text": [
      "0001010\n",
      "2\n"
     ]
    }
   ],
   "source": [
    "# s = list(map(int, input()))\n",
    "\n",
    "# length0 = 0\n",
    "# length1 = 0\n",
    "\n",
    "# value0 = []\n",
    "# value1 = []\n",
    "\n",
    "# result = 1\n",
    "\n",
    "# for i in range(len(s)):\n",
    "#     if s[i] == 0:\n",
    "#         length0 += 1\n",
    "#         value0.append(i)\n",
    "#     else:\n",
    "#         length1 += 1\n",
    "#         value1.append(i)\n",
    "        \n",
    "        \n",
    "# if length0 > length1:\n",
    "#     for i in range(len(value1) - 1):\n",
    "#         if value1[i + 1] - value1[i] == 1:\n",
    "#             continue\n",
    "#         else:\n",
    "#             result += 1\n",
    "# elif lengh0 < length1:\n",
    "#     for i in range(len(value0) - 1):\n",
    "#         if value0[i + 1] - value0[i] == 1:\n",
    "#             continue\n",
    "#         else:\n",
    "#             result += 1\n",
    "# else:\n",
    "    \n",
    "    \n",
    "# print(result)"
   ]
  },
  {
   "cell_type": "code",
   "execution_count": 17,
   "id": "86fa8440",
   "metadata": {},
   "outputs": [
    {
     "name": "stdout",
     "output_type": "stream",
     "text": [
      "0011001110\n",
      "1\n",
      "0\n",
      "1\n",
      "0\n",
      "2\n"
     ]
    }
   ],
   "source": [
    "s = list(map(int, input()))\n",
    "\n",
    "result0 = 0\n",
    "result1 = 0\n",
    "temp = s[0]\n",
    "for i in range(len(s)):\n",
    "    \n",
    "    if s[i] == temp:\n",
    "        temp = s[i]\n",
    "         \n",
    "    elif s[i] != temp:\n",
    "        temp = s[i]\n",
    "        \n",
    "        if s[i] == 0:\n",
    "#             print(s[i])\n",
    "            result1 += 1\n",
    "        elif s[i] == 1:\n",
    "#             print(s[i])\n",
    "            result0 += 1\n",
    "            \n",
    "if s[-1] == 0:\n",
    "    result0 += 1\n",
    "else:\n",
    "    result1 += 1\n",
    "\n",
    "print(min(result0, result1))\n",
    "        "
   ]
  },
  {
   "cell_type": "code",
   "execution_count": null,
   "id": "87755e75",
   "metadata": {},
   "outputs": [],
   "source": []
  },
  {
   "cell_type": "code",
   "execution_count": null,
   "id": "db874d0e",
   "metadata": {},
   "outputs": [],
   "source": []
  }
 ],
 "metadata": {
  "kernelspec": {
   "display_name": "Python 3 (ipykernel)",
   "language": "python",
   "name": "python3"
  },
  "language_info": {
   "codemirror_mode": {
    "name": "ipython",
    "version": 3
   },
   "file_extension": ".py",
   "mimetype": "text/x-python",
   "name": "python",
   "nbconvert_exporter": "python",
   "pygments_lexer": "ipython3",
   "version": "3.9.7"
  }
 },
 "nbformat": 4,
 "nbformat_minor": 5
}
