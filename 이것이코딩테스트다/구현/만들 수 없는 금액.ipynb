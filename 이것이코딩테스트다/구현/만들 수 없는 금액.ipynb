{
 "cells": [
  {
   "cell_type": "code",
   "execution_count": 12,
   "id": "2509d91b",
   "metadata": {},
   "outputs": [],
   "source": [
    "#입력예시\n",
    "#5\n",
    "#3 2 1 1 9"
   ]
  },
  {
   "cell_type": "code",
   "execution_count": 13,
   "id": "2b013d91",
   "metadata": {
    "scrolled": true
   },
   "outputs": [
    {
     "name": "stdout",
     "output_type": "stream",
     "text": [
      "5\n",
      "3 2 1 1 9\n",
      "5 [3, 2, 1, 1, 9]\n"
     ]
    }
   ],
   "source": [
    "n = int(input())\n",
    "ar = list(map(int, input().split()))\n",
    "print(n , ar)"
   ]
  },
  {
   "cell_type": "code",
   "execution_count": 14,
   "id": "41caea3e",
   "metadata": {},
   "outputs": [
    {
     "name": "stdout",
     "output_type": "stream",
     "text": [
      "[1, 1, 2, 3, 9]\n"
     ]
    }
   ],
   "source": [
    "# 1, 2, 3 => 6\n",
    "# 1, 2, 4, 7\n",
    "\n",
    "\n",
    "ar.sort()\n",
    "print(ar)"
   ]
  },
  {
   "cell_type": "code",
   "execution_count": 18,
   "id": "32c5217f",
   "metadata": {},
   "outputs": [
    {
     "name": "stdout",
     "output_type": "stream",
     "text": [
      "1 1\n",
      "2 2\n",
      "4 4\n",
      "8 7\n",
      "15\n"
     ]
    }
   ],
   "source": [
    "# 1부터 만들 수 있는 숫자인지 체크하는 것\n",
    "target = 1\n",
    "\n",
    "for i in [1, 2, 4, 7]:\n",
    "    print(target, i)\n",
    "    if target < i:\n",
    "        break\n",
    "    target += i\n",
    "    \n",
    "print(target)"
   ]
  },
  {
   "cell_type": "code",
   "execution_count": null,
   "id": "10cb3d24",
   "metadata": {},
   "outputs": [],
   "source": []
  }
 ],
 "metadata": {
  "kernelspec": {
   "display_name": "Python 3 (ipykernel)",
   "language": "python",
   "name": "python3"
  },
  "language_info": {
   "codemirror_mode": {
    "name": "ipython",
    "version": 3
   },
   "file_extension": ".py",
   "mimetype": "text/x-python",
   "name": "python",
   "nbconvert_exporter": "python",
   "pygments_lexer": "ipython3",
   "version": "3.9.7"
  }
 },
 "nbformat": 4,
 "nbformat_minor": 5
}
