{
 "cells": [
  {
   "cell_type": "code",
   "execution_count": 40,
   "id": "19138cbb",
   "metadata": {},
   "outputs": [
    {
     "name": "stdout",
     "output_type": "stream",
     "text": [
      "500\n"
     ]
    }
   ],
   "source": [
    "num = input()"
   ]
  },
  {
   "cell_type": "code",
   "execution_count": 30,
   "id": "d9cee1f7",
   "metadata": {},
   "outputs": [
    {
     "name": "stdout",
     "output_type": "stream",
     "text": [
      "[5, 0]\n"
     ]
    }
   ],
   "source": [
    "i = 50\n",
    "ar = list(map(int, list(str(i))))\n",
    "print(ar)"
   ]
  },
  {
   "cell_type": "code",
   "execution_count": 41,
   "id": "eabe7a79",
   "metadata": {},
   "outputs": [
    {
     "name": "stdout",
     "output_type": "stream",
     "text": [
      "119\n"
     ]
    }
   ],
   "source": [
    "result = []\n",
    "for i in range(1, int(num)+1):\n",
    "    ar = list(map(int, list(str(i))))\n",
    "    length = len(ar)\n",
    "    \n",
    "    if length <= 2:\n",
    "        result.append(i)\n",
    "    else:\n",
    "        temp = []\n",
    "\n",
    "        for j in range(length-1, 0, -1): \n",
    "            temp.append(ar[j] - ar[j-1])\n",
    "        \n",
    "        collect = True\n",
    "        for k in range(len(temp) - 1):\n",
    "            if(temp[k] != temp[k+1]):\n",
    "                collect = False\n",
    "                break\n",
    "            else:\n",
    "                continue\n",
    "            \n",
    "        \n",
    "        if collect == True:\n",
    "            result.append(i)\n",
    "\n",
    "\n",
    "print(len(result))\n",
    "            \n",
    "        \n",
    "        "
   ]
  },
  {
   "cell_type": "code",
   "execution_count": null,
   "id": "73324eca",
   "metadata": {},
   "outputs": [],
   "source": []
  }
 ],
 "metadata": {
  "kernelspec": {
   "display_name": "Python 3 (ipykernel)",
   "language": "python",
   "name": "python3"
  },
  "language_info": {
   "codemirror_mode": {
    "name": "ipython",
    "version": 3
   },
   "file_extension": ".py",
   "mimetype": "text/x-python",
   "name": "python",
   "nbconvert_exporter": "python",
   "pygments_lexer": "ipython3",
   "version": "3.10.2"
  }
 },
 "nbformat": 4,
 "nbformat_minor": 5
}
