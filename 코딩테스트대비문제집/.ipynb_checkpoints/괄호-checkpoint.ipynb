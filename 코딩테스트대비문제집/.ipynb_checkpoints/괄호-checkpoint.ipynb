{
 "cells": [
  {
   "cell_type": "code",
   "execution_count": 14,
   "id": "188676c0",
   "metadata": {},
   "outputs": [
    {
     "name": "stdout",
     "output_type": "stream",
     "text": [
      "6\n",
      "(())())\n",
      "(((()())()\n",
      "(()())((()))\n",
      "((()()(()))(((())))()\n",
      "()()()()(()()())()\n",
      "(()((())()(\n"
     ]
    }
   ],
   "source": [
    "num = int(input())\n",
    "ar = []\n",
    "for i in range(num):\n",
    "    ar.append(input())"
   ]
  },
  {
   "cell_type": "code",
   "execution_count": 45,
   "id": "5a8fdc75",
   "metadata": {},
   "outputs": [
    {
     "name": "stdout",
     "output_type": "stream",
     "text": [
      "[['(', '(', ')', ')', '(', ')', ')'], ['(', '(', '(', '(', ')', '(', ')', ')', '(', ')'], ['(', '(', ')', '(', ')', ')', '(', '(', '(', ')', ')', ')'], ['(', '(', '(', ')', '(', ')', '(', '(', ')', ')', ')', '(', '(', '(', '(', ')', ')', ')', ')', '(', ')'], ['(', ')', '(', ')', '(', ')', '(', ')', '(', '(', ')', '(', ')', '(', ')', ')', '(', ')'], ['(', '(', ')', '(', '(', '(', ')', ')', '(', ')', '(']]\n"
     ]
    }
   ],
   "source": [
    "ar2 = []\n",
    "for i in ar:\n",
    "    new = list(i)\n",
    "    ar2.append(new)\n",
    "print(ar2)"
   ]
  },
  {
   "cell_type": "code",
   "execution_count": 52,
   "id": "51e1db2a",
   "metadata": {},
   "outputs": [
    {
     "name": "stdout",
     "output_type": "stream",
     "text": [
      "2\n",
      "['(', '(', ')', ')', '(', ')', ')']\n",
      "()())\n",
      "1\n",
      "['(', ')', '(', ')', ')']\n",
      "())\n",
      "1\n",
      "['(', ')', ')']\n",
      ")\n",
      "NO\n",
      "4\n",
      "['(', '(', '(', '(', ')', '(', ')', ')', '(', ')']\n",
      "(((())()\n",
      "4\n",
      "['(', '(', '(', '(', ')', ')', '(', ')']\n",
      "((()()\n",
      "3\n",
      "['(', '(', '(', ')', '(', ')']\n",
      "((()\n",
      "3\n",
      "['(', '(', '(', ')']\n",
      "((\n",
      "-1\n",
      "['(', '(']\n"
     ]
    },
    {
     "ename": "IndexError",
     "evalue": "pop index out of range",
     "output_type": "error",
     "traceback": [
      "\u001b[0;31m---------------------------------------------------------------------------\u001b[0m",
      "\u001b[0;31mIndexError\u001b[0m                                Traceback (most recent call last)",
      "Input \u001b[0;32mIn [52]\u001b[0m, in \u001b[0;36m<module>\u001b[0;34m\u001b[0m\n\u001b[1;32m     10\u001b[0m \u001b[38;5;28mprint\u001b[39m(keyArAndStr)\n\u001b[1;32m     11\u001b[0m keyArAndStr\u001b[38;5;241m.\u001b[39mpop(first)\n\u001b[0;32m---> 12\u001b[0m \u001b[43mkeyArAndStr\u001b[49m\u001b[38;5;241;43m.\u001b[39;49m\u001b[43mpop\u001b[49m\u001b[43m(\u001b[49m\u001b[43mlast\u001b[49m\u001b[43m \u001b[49m\u001b[38;5;241;43m-\u001b[39;49m\u001b[43m \u001b[49m\u001b[38;5;241;43m1\u001b[39;49m\u001b[43m)\u001b[49m\n\u001b[1;32m     14\u001b[0m keyArAndStr \u001b[38;5;241m=\u001b[39m \u001b[38;5;124m\"\u001b[39m\u001b[38;5;124m\"\u001b[39m\u001b[38;5;241m.\u001b[39mjoin(keyArAndStr)\n\u001b[1;32m     15\u001b[0m \u001b[38;5;28mprint\u001b[39m(keyArAndStr)\n",
      "\u001b[0;31mIndexError\u001b[0m: pop index out of range"
     ]
    }
   ],
   "source": [
    "for i in range(len(ar)):\n",
    "    keyArAndStr = ar[i]\n",
    "#     for i in range(5):\n",
    "    while len(keyArAndStr) > 1:\n",
    "        first = keyArAndStr.find('(')\n",
    "        if first == -1:\n",
    "            print(\"NO\")\n",
    "            break\n",
    "        last = keyArAndStr.find(')', first)\n",
    "        if last == -1:\n",
    "            print(\"NO\")\n",
    "            break\n",
    "        print(last)\n",
    "        \n",
    "        keyArAndStr = list(keyArAndStr)\n",
    "        print(keyArAndStr)\n",
    "        keyArAndStr.pop(first)\n",
    "        keyArAndStr.pop(last - 1)\n",
    "        \n",
    "        keyArAndStr = \"\".join(keyArAndStr)\n",
    "        print(keyArAndStr)\n",
    "        \n",
    "    if len(keyArAndStr) == 1:\n",
    "        print(\"NO\")\n",
    "    elif len(keyArAndStr) == 0:\n",
    "        print(\"YES\")\n",
    "    \n"
   ]
  },
  {
   "cell_type": "code",
   "execution_count": 29,
   "id": "7bf85d18",
   "metadata": {},
   "outputs": [
    {
     "name": "stdout",
     "output_type": "stream",
     "text": [
      "['j', 'f', 'l', 'd', 's', 'k', 'j', 'f']\n"
     ]
    }
   ],
   "source": [
    "\n",
    "c = 'jfldskjf'\n",
    "print(list(c))"
   ]
  },
  {
   "cell_type": "code",
   "execution_count": null,
   "id": "a2341915",
   "metadata": {},
   "outputs": [],
   "source": []
  }
 ],
 "metadata": {
  "kernelspec": {
   "display_name": "Python 3 (ipykernel)",
   "language": "python",
   "name": "python3"
  },
  "language_info": {
   "codemirror_mode": {
    "name": "ipython",
    "version": 3
   },
   "file_extension": ".py",
   "mimetype": "text/x-python",
   "name": "python",
   "nbconvert_exporter": "python",
   "pygments_lexer": "ipython3",
   "version": "3.10.2"
  }
 },
 "nbformat": 4,
 "nbformat_minor": 5
}
