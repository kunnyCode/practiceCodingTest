{
 "cells": [
  {
   "cell_type": "code",
   "execution_count": 16,
   "id": "b8883b7a",
   "metadata": {},
   "outputs": [
    {
     "name": "stdout",
     "output_type": "stream",
     "text": [
      "baekjoon\n"
     ]
    }
   ],
   "source": [
    "s = list(input())"
   ]
  },
  {
   "cell_type": "code",
   "execution_count": 17,
   "id": "e4d69b10",
   "metadata": {},
   "outputs": [
    {
     "data": {
      "text/plain": [
       "['b', 'a', 'e', 'k', 'j', 'o', 'o', 'n']"
      ]
     },
     "execution_count": 17,
     "metadata": {},
     "output_type": "execute_result"
    }
   ],
   "source": [
    "s"
   ]
  },
  {
   "cell_type": "code",
   "execution_count": 18,
   "id": "4cc9bcba",
   "metadata": {},
   "outputs": [],
   "source": [
    "result = {'a':-1, 'b':-1, 'c':-1, 'd':-1, 'e':-1, 'f':-1, 'g':-1, 'h':-1, 'i':-1, 'j':-1, 'k':-1, 'l':-1, 'm':-1, 'n':-1, 'o':-1, 'p':-1, 'q':-1, 'r':-1, 's':-1, 't':-1, 'u':-1, 'v':-1, 'w':-1, 'x':-1, 'y':-1, 'z':-1, }"
   ]
  },
  {
   "cell_type": "code",
   "execution_count": 19,
   "id": "bc800035",
   "metadata": {},
   "outputs": [],
   "source": [
    "for i in range(len(s)):\n",
    "    if result[s[i]] != -1:\n",
    "        continue\n",
    "    else:\n",
    "        result[s[i]] = i"
   ]
  },
  {
   "cell_type": "code",
   "execution_count": 20,
   "id": "da2693c3",
   "metadata": {},
   "outputs": [
    {
     "name": "stdout",
     "output_type": "stream",
     "text": [
      "1 0 -1 -1 2 -1 -1 -1 -1 4 3 -1 -1 7 5 -1 -1 -1 -1 -1 -1 -1 -1 -1 -1 -1 "
     ]
    }
   ],
   "source": [
    "for key in result:\n",
    "    print(result[key], end=\" \")"
   ]
  }
 ],
 "metadata": {
  "kernelspec": {
   "display_name": "Python 3 (ipykernel)",
   "language": "python",
   "name": "python3"
  },
  "language_info": {
   "codemirror_mode": {
    "name": "ipython",
    "version": 3
   },
   "file_extension": ".py",
   "mimetype": "text/x-python",
   "name": "python",
   "nbconvert_exporter": "python",
   "pygments_lexer": "ipython3",
   "version": "3.10.2"
  }
 },
 "nbformat": 4,
 "nbformat_minor": 5
}
