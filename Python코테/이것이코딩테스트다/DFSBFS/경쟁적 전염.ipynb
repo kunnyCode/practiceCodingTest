{
 "cells": [
  {
   "cell_type": "code",
   "execution_count": 21,
   "id": "f29a0877",
   "metadata": {},
   "outputs": [
    {
     "name": "stdout",
     "output_type": "stream",
     "text": [
      "3 3\n"
     ]
    }
   ],
   "source": [
    "n1, n2 = map(int, input().split())\n",
    "# print(n1, n2)"
   ]
  },
  {
   "cell_type": "code",
   "execution_count": 22,
   "id": "8829b00e",
   "metadata": {},
   "outputs": [],
   "source": [
    "graph = [[] for _ in range(n1)]"
   ]
  },
  {
   "cell_type": "code",
   "execution_count": 23,
   "id": "c6c43f60",
   "metadata": {},
   "outputs": [
    {
     "name": "stdout",
     "output_type": "stream",
     "text": [
      "1 0 2\n",
      "0 0 0\n",
      "3 0 0\n",
      "[[1, 0, 2], [0, 0, 0], [3, 0, 0]]\n"
     ]
    }
   ],
   "source": [
    "for i in range(n1):\n",
    "    ar = list(map(int, input().split()))\n",
    "    for j in ar:\n",
    "        graph[i].append(j)\n",
    "\n",
    "print(graph)"
   ]
  },
  {
   "cell_type": "code",
   "execution_count": 24,
   "id": "cb3b9ab1",
   "metadata": {},
   "outputs": [
    {
     "name": "stdout",
     "output_type": "stream",
     "text": [
      "2 3 2\n"
     ]
    }
   ],
   "source": [
    "s, x, y = map(int, input().split())"
   ]
  },
  {
   "cell_type": "code",
   "execution_count": 26,
   "id": "eb5912d6",
   "metadata": {},
   "outputs": [
    {
     "name": "stdout",
     "output_type": "stream",
     "text": [
      "{1: (0, 0), 2: (0, 2), 3: (2, 0)}\n"
     ]
    }
   ],
   "source": [
    "virus = {}\n",
    "\n",
    "for i in range(n1):\n",
    "    for j in range(n2):\n",
    "        if graph[i][j] > 0:\n",
    "            virus[graph[i][j]] = (i, j)\n",
    "print(virus)"
   ]
  },
  {
   "cell_type": "code",
   "execution_count": 28,
   "id": "096bc645",
   "metadata": {},
   "outputs": [
    {
     "name": "stdout",
     "output_type": "stream",
     "text": [
      "1 (0, 0)\n",
      "2 (0, 2)\n",
      "3 (2, 0)\n"
     ]
    }
   ],
   "source": [
    "from collections import deque\n",
    "\n",
    "q = deque()\n",
    "for num, tu in virus.items():\n",
    "    \n",
    "    "
   ]
  },
  {
   "cell_type": "code",
   "execution_count": null,
   "id": "5f263b64",
   "metadata": {},
   "outputs": [],
   "source": []
  }
 ],
 "metadata": {
  "kernelspec": {
   "display_name": "Python 3 (ipykernel)",
   "language": "python",
   "name": "python3"
  },
  "language_info": {
   "codemirror_mode": {
    "name": "ipython",
    "version": 3
   },
   "file_extension": ".py",
   "mimetype": "text/x-python",
   "name": "python",
   "nbconvert_exporter": "python",
   "pygments_lexer": "ipython3",
   "version": "3.9.7"
  }
 },
 "nbformat": 4,
 "nbformat_minor": 5
}
